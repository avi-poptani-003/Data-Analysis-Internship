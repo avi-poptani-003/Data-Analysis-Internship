{
 "cells": [
  {
   "cell_type": "code",
   "execution_count": 24,
   "metadata": {},
   "outputs": [],
   "source": [
    "# Import required libraries\n",
    "import pandas as pd\n",
    "import numpy as np\n",
    "import matplotlib.pyplot as plt\n",
    "import seaborn as sns\n",
    "from sklearn.model_selection import train_test_split\n",
    "from sklearn.preprocessing import MinMaxScaler, LabelEncoder\n",
    "from sklearn.linear_model import LinearRegression\n",
    "from sklearn.metrics import mean_squared_error, r2_score"
   ]
  },
  {
   "cell_type": "code",
   "execution_count": null,
   "metadata": {},
   "outputs": [],
   "source": [
    "# Load the dataset and perform initial exploration\n",
    "df = pd.read_csv(\"../CSV/Housing.csv\")  \n",
    "print(\"Dataset Summary:\")\n",
    "print(df.describe())  \n",
    "print(\"\\nMissing Values Check:\")\n",
    "print(df.isnull().sum())  \n",
    "df = df.dropna()  "
   ]
  },
  {
   "cell_type": "code",
   "execution_count": null,
   "metadata": {},
   "outputs": [],
   "source": [
    "# Visualize distributions of numerical variables using histograms\n",
    "numerical_cols = ['area', 'bedrooms', 'bathrooms', 'stories', 'parking', 'price']\n",
    "df[numerical_cols].hist(figsize=(10, 8), bins=30)\n",
    "plt.suptitle('Distribution of Numerical Variables', y=1.02)\n",
    "plt.savefig('Distribution of Numerical Variables.png', dpi=800, bbox_inches='tight')\n",
    "plt.show()"
   ]
  },
  {
   "cell_type": "code",
   "execution_count": null,
   "metadata": {},
   "outputs": [],
   "source": [
    "# Detect outliers using boxplots for numerical columns\n",
    "plt.figure(figsize=(12, 6))\n",
    "for i, col in enumerate(numerical_cols):\n",
    "    plt.subplot(2, 3, i + 1)\n",
    "    sns.boxplot(y=df[col])\n",
    "    plt.title(f'Boxplot of {col}')\n",
    "plt.tight_layout()\n",
    "plt.suptitle('Outlier Detection with Boxplots', y=1.02)\n",
    "plt.savefig('Outlier Detection.png', dpi=800, bbox_inches='tight')\n",
    "plt.show()"
   ]
  },
  {
   "cell_type": "code",
   "execution_count": 28,
   "metadata": {},
   "outputs": [],
   "source": [
    "# Preprocess binary categorical features (yes/no to 1/0)\n",
    "binary_cols = ['mainroad', 'guestroom', 'basement', 'hotwaterheating', 'airconditioning', 'prefarea']\n",
    "for col in binary_cols:\n",
    "    df[col] = df[col].map({'yes': 1, 'no': 0}) "
   ]
  },
  {
   "cell_type": "code",
   "execution_count": null,
   "metadata": {},
   "outputs": [],
   "source": [
    "# One-Hot Encode non-ordinal categorical feature (furnishingstatus)\n",
    "df = pd.get_dummies(df, columns=['furnishingstatus'], drop_first=True)  # Avoid dummy variable trap\n",
    "\n",
    "# Normalize numerical features to [0,1] range using Min-Max Scaling\n",
    "scaler = MinMaxScaler()\n",
    "scaled_cols = ['area', 'bedrooms', 'bathrooms', 'stories', 'parking']\n",
    "df[scaled_cols] = scaler.fit_transform(df[scaled_cols])  # Apply scaling to specified columns\n",
    "\n",
    "# Analyze feature correlations with the target variable (price)\n",
    "corr_matrix = df.corr()\n",
    "plt.figure(figsize=(12, 8))\n",
    "sns.heatmap(corr_matrix, annot=True, cmap='coolwarm', fmt=\".2f\")\n",
    "plt.title('Correlation Matrix Heatmap')\n",
    "plt.savefig('Correlation Matrix.png', dpi=800, bbox_inches='tight')\n",
    "plt.show()"
   ]
  },
  {
   "cell_type": "code",
   "execution_count": 30,
   "metadata": {},
   "outputs": [],
   "source": [
    "# Split data into features (X) and target variable (y)\n",
    "X = df.drop(columns=['price'])  # Features (all columns except price)\n",
    "y = df['price']  # Target variable\n",
    "\n",
    "# Split data into training (80%) and testing (20%) sets with reproducible random state\n",
    "X_train, X_test, y_train, y_test = train_test_split(X, y, test_size=0.2, random_state=42)"
   ]
  },
  {
   "cell_type": "code",
   "execution_count": 31,
   "metadata": {},
   "outputs": [],
   "source": [
    "# Initialize and train the Linear Regression model\n",
    "model = LinearRegression()\n",
    "model.fit(X_train, y_train)  # Train model on training data\n",
    "\n",
    "# Generate predictions on the test set\n",
    "y_pred = model.predict(X_test)"
   ]
  },
  {
   "cell_type": "code",
   "execution_count": 32,
   "metadata": {},
   "outputs": [
    {
     "name": "stdout",
     "output_type": "stream",
     "text": [
      "\n",
      "Model Performance:\n",
      "RMSE: 1324506.96\n",
      "R² Score: 0.6529\n"
     ]
    }
   ],
   "source": [
    "# Evaluate model performance using RMSE and R² Score\n",
    "rmse = np.sqrt(mean_squared_error(y_test, y_pred))\n",
    "r2 = r2_score(y_test, y_pred)\n",
    "print(f'\\nModel Performance:')\n",
    "print(f'RMSE: {rmse:.2f}')  # Lower RMSE indicates better accuracy\n",
    "print(f'R² Score: {r2:.4f}')  # Higher R² (closer to 1) indicates better fit"
   ]
  }
 ],
 "metadata": {
  "kernelspec": {
   "display_name": "env",
   "language": "python",
   "name": "python3"
  },
  "language_info": {
   "codemirror_mode": {
    "name": "ipython",
    "version": 3
   },
   "file_extension": ".py",
   "mimetype": "text/x-python",
   "name": "python",
   "nbconvert_exporter": "python",
   "pygments_lexer": "ipython3",
   "version": "3.11.9"
  }
 },
 "nbformat": 4,
 "nbformat_minor": 2
}
