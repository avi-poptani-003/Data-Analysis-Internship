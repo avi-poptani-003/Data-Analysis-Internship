{
 "cells": [
  {
   "cell_type": "code",
   "execution_count": null,
   "metadata": {},
   "outputs": [],
   "source": [
    "# Import required libraries\n",
    "import pandas as pd\n",
    "import numpy as np\n",
    "import matplotlib.pyplot as plt\n",
    "import seaborn as sns\n",
    "from sklearn.preprocessing import StandardScaler\n",
    "from sklearn.cluster import KMeans\n",
    "from sklearn.decomposition import PCA\n",
    "print('Success')"
   ]
  },
  {
   "cell_type": "code",
   "execution_count": null,
   "metadata": {},
   "outputs": [],
   "source": [
    "df = pd.read_csv('../CSV/Mall_Customers.csv')\n",
    "# Dataset inspection\n",
    "print(\"Dataset Shape:\", df.shape)\n",
    "print(\"\\nMissing Values:\\n\", df.isnull().sum())\n",
    "print(\"\\nDuplicate Rows:\", df.duplicated().sum())\n",
    "print(\"\\nData Types:\\n\", df.dtypes)\n",
    "print(\"\\nSummary Statistics:\\n\", df.describe())"
   ]
  },
  {
   "cell_type": "code",
   "execution_count": 5,
   "metadata": {},
   "outputs": [],
   "source": [
    "# Step 2: Data Preprocessing\n",
    "# Select relevant features   \n",
    "X = df[['Age', 'Annual Income (k$)', 'Spending Score (1-100)']]\n",
    "\n",
    "# Standardize the data\n",
    "scaler = StandardScaler()\n",
    "X_scaled = scaler.fit_transform(X)"
   ]
  },
  {
   "cell_type": "code",
   "execution_count": null,
   "metadata": {},
   "outputs": [],
   "source": [
    "# Step 3: Clustering - Determine optimal clusters using Elbow Method\n",
    "wcss = []\n",
    "for i in range(1, 11):\n",
    "    kmeans = KMeans(n_clusters=i, init='k-means++', random_state=42)\n",
    "    kmeans.fit(X_scaled)\n",
    "    wcss.append(kmeans.inertia_)\n",
    "\n",
    "# Plot Elbow Method\n",
    "plt.figure(figsize=(10,6))\n",
    "plt.plot(range(1, 11), wcss, marker='o', linestyle='--')\n",
    "plt.title('Elbow Method for Optimal K')\n",
    "plt.xlabel('Number of Clusters')\n",
    "plt.ylabel('WCSS')\n",
    "plt.xticks(range(1, 11))\n",
    "plt.grid()\n",
    "plt.savefig('elbow_method.png', dpi=800, bbox_inches='tight')\n",
    "plt.show()\n",
    "\n",
    "# Based on the elbow plot, select optimal K (example: K=5)\n",
    "optimal_k = 5\n",
    "\n",
    "# Apply K-Means clustering\n",
    "kmeans = KMeans(n_clusters=optimal_k, init='k-means++', random_state=42)\n",
    "clusters = kmeans.fit_predict(X_scaled)\n",
    "df['Cluster'] = clusters"
   ]
  },
  {
   "cell_type": "code",
   "execution_count": null,
   "metadata": {},
   "outputs": [],
   "source": [
    "# Step 4: Visualization\n",
    "# PCA for 2D visualization\n",
    "pca = PCA(n_components=2)\n",
    "principal_components = pca.fit_transform(X_scaled)\n",
    "df_pca = pd.DataFrame(principal_components, columns=['PC1', 'PC2'])\n",
    "df_pca['Cluster'] = clusters\n",
    "\n",
    "plt.figure(figsize=(10,6))\n",
    "sns.scatterplot(data=df_pca, x='PC1', y='PC2', hue='Cluster', palette='viridis', s=100)\n",
    "plt.title('Customer Segmentation Clusters (PCA)')\n",
    "plt.savefig('pca_clusters.png', dpi=800, bbox_inches='tight')\n",
    "plt.show()\n",
    "\n",
    "plt.figure(figsize=(10,8))\n",
    "sns.pairplot(df, hue='Cluster', palette='tab10', corner=False)\n",
    "plt.suptitle('Pair Plots by Cluster', y=1.02)\n",
    "plt.savefig('pair_plots.png', dpi=800, bbox_inches='tight')\n",
    "plt.show()\n",
    "\n",
    "# Cluster Centroids Visualization (Original Features)\n",
    "cluster_centers = scaler.inverse_transform(kmeans.cluster_centers_)\n",
    "centroid_df = pd.DataFrame(cluster_centers, columns=['Age', 'Annual Income', 'Spending Score'])\n",
    "centroid_df['Cluster'] = [f'Centroid {i}' for i in range(optimal_k)]\n",
    "\n",
    "print(\"\\nCluster Centroids (Original Scale):\\n\", centroid_df)\n"
   ]
  }
 ],
 "metadata": {
  "kernelspec": {
   "display_name": "env",
   "language": "python",
   "name": "python3"
  },
  "language_info": {
   "codemirror_mode": {
    "name": "ipython",
    "version": 3
   },
   "file_extension": ".py",
   "mimetype": "text/x-python",
   "name": "python",
   "nbconvert_exporter": "python",
   "pygments_lexer": "ipython3",
   "version": "3.11.9"
  }
 },
 "nbformat": 4,
 "nbformat_minor": 2
}
